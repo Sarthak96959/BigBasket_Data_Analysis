{
 "cells": [
  {
   "cell_type": "code",
   "execution_count": 1,
   "id": "2dd18098",
   "metadata": {},
   "outputs": [
    {
     "name": "stdout",
     "output_type": "stream",
     "text": [
      "16072-0\n",
      "14984-16072\n",
      "15390-14984\n",
      "15796-15390\n",
      "16201-15796\n",
      "16607-16201\n",
      "16810-16607\n",
      "17216-16810\n",
      "22986-17216\n",
      "23392-22986\n",
      "23595-23392\n",
      "24001-23595\n",
      "24407-24001\n",
      "24813-24407\n",
      "25219-24813\n",
      "25624-25219\n",
      "31387-25624\n",
      "31590-31387\n",
      "31995-31590\n",
      "32401-31995\n",
      "32807-32401\n",
      "33213-32807\n",
      "33619-33213\n",
      "34025-33619\n",
      "39582-34025\n",
      "39785-39582\n",
      "40190-39785\n",
      "40799-40190\n",
      "41002-40799\n",
      "41408-41002\n",
      "41814-41408\n",
      "42220-41814\n",
      "47780-42220\n",
      "48186-47780\n",
      "48592-48186\n",
      "48795-48592\n",
      "49201-48795\n",
      "52780-49201\n",
      "52780-52780\n"
     ]
    }
   ],
   "source": [
    "# WEB SCRAPING FROM THE WEB SITE BIG_BASKET\n",
    "url = \"https://www.bigbasket.com/cl/fruits-vegetables/?nc=nb\"\n",
    "\n",
    "path_to_file = r\"C:\\Users\\Lenovo\\Downloads\\PROJECT\\BigBasket\\\\\"\n",
    "\n",
    "from selenium import webdriver\n",
    "from selenium.webdriver.common.by import By\n",
    "import pandas as pd\n",
    "import time\n",
    "from bs4 import BeautifulSoup\n",
    "\n",
    "mode = \"\" #mode=extract/scrape/\"\"\n",
    "\n",
    "if(mode != \"extract\"):\n",
    "    driver = webdriver.Chrome()\n",
    "    driver.maximize_window()\n",
    "\n",
    "    driver.get(url)\n",
    "\n",
    "    last_height = 0\n",
    "    a = 0\n",
    "\n",
    "    while True:\n",
    "        driver.execute_script('window.scrollBy(0, 1000)')\n",
    "        time.sleep(10)\n",
    "\n",
    "        new_height = driver.execute_script(\"return document.body.scrollHeight\")\n",
    "        print(str(new_height)+\"-\"+str(last_height))\n",
    "\n",
    "        if(new_height == last_height):\n",
    "            break\n",
    "\n",
    "        else:\n",
    "            last_height = new_height\n",
    "       \n",
    "    \n",
    "    page_source = driver.page_source\n",
    "        \n",
    "        \n",
    "\n",
    "    f = open(path_to_file+\"source.txt\",\"w\",encoding=\"utf-8\")\n",
    "    f.write(page_source)\n",
    "    f.close()\n"
   ]
  },
  {
   "cell_type": "code",
   "execution_count": 4,
   "id": "4ee63581",
   "metadata": {},
   "outputs": [
    {
     "name": "stdout",
     "output_type": "stream",
     "text": [
      "1-15043-0\n",
      "2-15449-15043\n",
      "3-15855-15449\n",
      "4-16058-15855\n",
      "5-16464-16058\n",
      "6-16870-16464\n",
      "7-17275-16870\n",
      "8-17681-17275\n",
      "9-23241-17681\n",
      "10-23646-23241\n",
      "11-24052-23646\n",
      "12-24458-24052\n",
      "13-24864-24458\n",
      "14-25270-24864\n",
      "15-25473-25270\n",
      "16-25879-25473\n",
      "17-26284-25879\n",
      "18-32042-26284\n",
      "19-32245-32042\n",
      "20-32651-32245\n",
      "21-33057-32651\n",
      "22-33462-33057\n",
      "23-33868-33462\n",
      "24-34274-33868\n",
      "25-34680-34274\n",
      "26-40239-34680\n",
      "27-40645-40239\n",
      "28-41051-40645\n",
      "29-41254-41051\n",
      "30-41660-41254\n"
     ]
    }
   ],
   "source": [
    "url = \"https://www.bigbasket.com/cl/bakery-cakes-dairy/?nc=nb\"\n",
    "path_to_file = r\"C:\\Users\\Lenovo\\Downloads\\PROJECT\\BigBasket\\\\\"\n",
    "\n",
    "from selenium import webdriver\n",
    "from selenium.webdriver.common.by import By\n",
    "import pandas as pd\n",
    "import time\n",
    "from bs4 import BeautifulSoup\n",
    "\n",
    "mode = \"\" #mode=extract/scrape/\"\"\n",
    "\n",
    "if(mode != \"extract\"):\n",
    "    driver = webdriver.Chrome()\n",
    "    driver.maximize_window()\n",
    "\n",
    "    driver.get(url)\n",
    "\n",
    "    last_height = 0\n",
    "    a = 1\n",
    "\n",
    "    while True:\n",
    "        driver.execute_script('window.scrollBy(0, 1000)')\n",
    "        time.sleep(10)\n",
    "\n",
    "        new_height = driver.execute_script(\"return document.body.scrollHeight\")\n",
    "        print(str(a)+\"-\"+str(new_height)+\"-\"+str(last_height))\n",
    "\n",
    "        if(new_height == last_height) or a == 30:\n",
    "            break\n",
    "\n",
    "        else:\n",
    "            last_height = new_height\n",
    "        a += 1\n",
    "    \n",
    "    page_source = driver.page_source\n",
    "        \n",
    "        \n",
    "\n",
    "    f = open(path_to_file+\"source1.txt\",\"w\",encoding=\"utf-8\")\n",
    "    f.write(page_source)\n",
    "    f.close()"
   ]
  },
  {
   "cell_type": "code",
   "execution_count": 137,
   "id": "605331c4",
   "metadata": {},
   "outputs": [],
   "source": [
    "#CREATING A NEW empty HTML FILE NAME html.html bcz scraped file was in \"txt\" form \n",
    "html = open(\"C:\\\\Users\\\\Lenovo\\\\Downloads\\\\PROJECT\\\\BigBasket\\\\HTML FILE\\\\html.html\",\"x\")"
   ]
  },
  {
   "cell_type": "code",
   "execution_count": 138,
   "id": "df6af075",
   "metadata": {},
   "outputs": [],
   "source": [
    "#Transfer the data from txt file to html file  :- \n",
    "# open the txt file in variable a \n",
    "\n",
    "a = open(\"C:\\\\Users\\\\Lenovo\\\\Downloads\\\\PROJECT\\\\BigBasket\\\\source1.txt\",\"r\",encoding = \"utf-8\")\n",
    "\n",
    "#Append the data into html.html file form the txt file which has opended \n",
    "new_html = open(\"C:\\\\Users\\\\Lenovo\\\\Downloads\\\\PROJECT\\\\BigBasket\\\\HTML FILE\\\\html.html\",\"a\",encoding=\"utf-8\")\n",
    "for i in a:\n",
    "    new_html.write(i)\n"
   ]
  },
  {
   "cell_type": "code",
   "execution_count": 1,
   "id": "204ebf3c",
   "metadata": {},
   "outputs": [],
   "source": [
    "from bs4 import BeautifulSoup \n",
    "#open the html file \n",
    "with open(\"C:\\\\Users\\\\Lenovo\\\\Downloads\\\\PROJECT\\\\BigBasket\\\\HTML FILE\\\\html.html\",\"r\",encoding=\"utf-8\") as f:\n",
    "    html = f.read()\n",
    "soup = BeautifulSoup(html,\"html.parser\")"
   ]
  },
  {
   "cell_type": "code",
   "execution_count": 3,
   "id": "757bdb5d",
   "metadata": {
    "scrolled": true
   },
   "outputs": [
    {
     "name": "stdout",
     "output_type": "stream",
     "text": [
      "['Potato', 'Onion (Loose)', 'Coriander Leaves With Roots - Enhances Flavour Of The Dishes', 'Potato', \"Ladies' Fingers (Loose)\", 'Tomato - Local (Loose)', 'Coriander Leaves', 'Cucumber (Loose)', 'Ginger - Organically Grown (Loose)', 'Palak - Cleaned, without roots', 'Capsicum - Green (Loose)', 'Cauliflower', 'Bottle Gourd (Loose)', 'Banana - Yelakki', 'Dasheri Mango (Malihabadi)', 'Tomato - Hybrid', 'Orange - Nagpur, Regular', 'Baby Apple Shimla', 'Apple - Shimla, Regular', 'Carrot - Orange (Loose)', 'Banana - Robusta', 'Beans - Haricot (Loose)', 'Garlic - Organically Grown (Loose)', 'Tomato - Local, Organically Grown (Loose)', 'Onion - Organically Grown (Loose)', 'Radish - White (Loose)', 'Broccoli', 'Ridge Gourd', 'Methi/Venthaya Keerai - Cleaned, without roots', 'Cabbage', 'Chilli - Green Long, Medium (Loose)', 'Beans - Cowpea (Loose)', 'Avocado - Imported, Medium (Loose)', 'Parwal (Loose)', 'Coconut - Medium', 'Curry Leaves', 'Banana - Yelakki, Organically Grown', 'Pear - Green, Imported', 'Papaya - Small', 'Drumstick/Moringa', 'Bitter Gourd (Loose)', 'Tomato - Hybrid, Organically Grown (Loose)', 'Thai Guava - White Centre', 'Palak - Organically Grown', 'Ginger (Loose)', 'Coccinia (Loose)', 'Pomegranate - Regular', 'Blueberry', 'Pomegranate', 'Mini Orange Imported', 'Cucumber - Organically Grown (Loose)', 'Cucumber - English (Loose)', 'Watermelon  - Small', 'Garlic - Peeled', 'Cut Roses', 'Mushrooms - Button', 'Chilli - Green, Organically Grown', 'Lemon (Loose)', 'Banana - Nendran', 'Custard Apple', 'Apple - Pink Lady', 'Capsicum - Green, Organically Grown (Loose)', 'Guava (Loose)', 'Colocasia (Loose)', 'Kiwi - Green', 'Amla (Loose)', 'Brinjal - Varikatri (Loose)', 'Tender Coconut - Small', 'Beetroot (Loose)', 'Beans - Broad (Loose)', 'Orange - Nagpur, Small', 'Baby Potato (Loose)', 'Chow Chow (Loose)', 'Marigold Flower - Orange', 'Bottle Gourd - Organically Grown (Loose)', 'Dragon Fruit - Red Flesh', 'Chrysanthemum/Shevanti Flower', 'Brinjal - Bottle Shape (Loose)', 'Sweet Corn (Loose)', 'Pumpkin Green - Cut', 'Sweet Potato - Organically Grown (Loose)', 'Onion - Sambhar (Loose)', 'Dragon Fruit (Loose)', 'Coloured Capsicum Mix', 'Coconut - With Husk', 'Apple - Red Delicious, Organically Grown', 'Guava - Pink', 'Beetroot - Organically Grown (Loose)', 'Beans - French Ring, Organically Grown', 'Chilli - Green Small (Loose)', 'Marigold Flower - Yellow', 'Betel Leaf', 'Pineapple', 'Garlic (Loose)', 'Sweet Potato (Loose)', 'Banana - Raw Green (Loose)', 'Apple - Royal Gala, Regular', 'Spring Onion - With roots', 'Apple - Royal Gala', 'Carrot - Ooty (Loose)', 'Beans - Cluster (Loose)', 'Cauliflower - Organically Grown', 'English Cucumber - Organically grown', 'Cabbage - Organically Grown (Loose)', 'Bitter Gourd - Organically Grown (Loose)', 'Tender Coconut', 'Mint Leaves - Cleaned, without roots', 'Orange - Imported', 'Banana - Red', 'Ridge Gourd - Organically Grown (Loose)', 'Sapota', 'Potato - Organically Grown (Loose)', 'Apple - Shimla, Premium', 'Banana - Robusta, Organically Grown', 'Grapes - Bangalore Blue', 'Banana - Robusta, Small', 'Capsicum - Yellow, Organically Grown (Loose)', 'Papaya - Raw, Organically Grown (Loose)', 'Muskmelon -  Netted Small', 'Orange - Nagpur Premium', 'Totapuri Mango - Raw', 'Papaya - Medium', 'Raw Mango', 'Bitter Gourd - Forest (Loose)', 'Frozen Green Peas', 'Mushrooms - Oyster', 'Apple - Green, Premium', 'Pumpkin - Organically Grown (Loose)', 'Pomegranate - Premium', 'Ash Gourd - Cut', 'Banana - Karpooravalli', 'Tulsi Leaves', 'Ber (Loose)', 'Dill Leaves', 'Ash Gourd (Loose)', 'Guava - Organically Grown (Loose)', 'Amaranthus - Red Cleaned, without roots', 'Grapes - Red Globe', 'Pumpkin - Disco', 'Banana - Nendran, Organically Grown', 'Groundnut - Fresh (Loose)', 'Banana - Robusta, Small', 'Pomegranate - Peeled', 'Mint - Organically Grown', 'Sambar Onion - Peeled (Small Onion)', 'Snake Gourd', 'Zucchini - Green', 'Apple - Red Delicious / Washington, Regular', 'Passion Fruit', 'Lettuce - Iceberg', 'Rajnigandha - Loose', 'Watermelon - Organically Grown (Loose)', 'Gongura Leaves/Pulicha - Cleaned, without roots', 'Banana - Poovan', 'Banana Flower - Organically Grown (Loose)', 'Knol Khol (Loose)', 'Mosambi - Economy (Loose)', 'Basale Leaf', 'Sugarcane', 'Cucumber - Mangalore', 'Contola', 'Capsicum - Red, Organically Grown (Loose)', 'Mosambi (Loose)', 'Neem Leaves - Organically Grown', 'Sambar Onion - Organically Grown, Rich In Antioxidants', 'Apple - Royal Gala, Premium', 'Baby Corn - Unpeeled (Loose)', 'Baby Spinach - Hydroponically Grown', 'Tomato - Cherry', 'Zucchini - Yellow', 'Baby Corn - Peeled', 'Tinda (Loose)', 'Tapioca (Loose)', 'Avocado (Loose)', 'Coconut - Organically Grown (Loose)', 'Zespri Kiwi - Sun Gold', 'Pear - Beauty', 'Fresh Figs', 'Yam - Sliced', 'Lettuce - Green', 'Organic Sprouts Moong Green', 'Capsicum - Red (Loose)', 'Apple - Red Delicious / Washington, Premium', 'Pak Choi', 'Kale - Hydroponically Grown', 'Chilli - Bajji, Mild (Loose)', 'Coconut - Large', 'Papaya- Diced', 'Dates - Kimia, with Seed', 'Apple - Kinnaur, Regular', 'Frozen Sweet Corn', 'Banana Leaf', 'Apricot - Dried', 'Pineapple - Slices', 'Lemon Grass', 'Celery', 'Coconut - Diced', 'Onion - White (Loose)', 'Banana Stem - Organically Grown (Loose)', \"Ladies' Fingers - Diced (Loose)\", 'Apple - Ambri', 'Tapioca - Organically Grown, Rich In Calcium, Supports Weight Gain', 'Mangosteen', 'Yam - Diced', 'Beans - Double (Loose)', 'Apple - Fuji, Economy', 'Plum - Imported', 'Ooty Beetroot', 'Chilli - Thai Bird (Loose)', 'Pear - Nakh, Indian', 'Papaya - Large', 'Persimmon /Amarphal', 'Onion - Diced', 'Apple - Red Delicious, Economy', 'Lemon Gondhoraj- Organically Grown', 'Apple - Fuji, Regular', 'Banana Plant', 'Marigold String - Used To Decorate, For Festivals & Puja', 'Tomato Cherry - Yellow, Hydroponically Grown', 'Rambutan', 'Asparagus', 'Carrots - Diced', 'Tomato - Green (Loose)', 'Coccinia - Julienne', 'kanagale/Oleander Flower - Used To Decorate  For Festivals', 'Beans - Julienne', 'Broccoli - Florets', 'Paneer Roses', 'Organic Sprouts Channa Brown', 'Durva Grass/Garike - Used To Decorate, For Festivals & Puja', 'Coconut Flower - Medium, Rich In Fibre, Helps Manage Blood Sugar Levels', 'Grapes - Red Globeâ€š  Indian', 'Mosambi (Loose)', 'Ooty Chow Chow', 'Beans - French, Ring (Loose)', 'Lettuce - Romaine', 'Carrots - Grated', 'Methi - Chopped', 'Carrot Strips and Beans Strip', 'Beetroot - Diced', 'Pear - Beauty', 'Basil - Thai, Sweet', 'Fresh Dates - Red']\n",
      "Total Data 244\n"
     ]
    }
   ],
   "source": [
    "#NAME OF THE VEGITABLES & CREATING A LIST \n",
    "name = soup.find_all(\"h3\",class_ = \"block m-0 line-clamp-2 font-regular text-base leading-sm text-darkOnyx-800 pt-0.5 h-full\")\n",
    "name_ = []\n",
    "cnt = 1\n",
    "for i in name :\n",
    "    name_.append(i.text)\n",
    "    cnt += 1\n",
    "print(name_)\n",
    "print (\"Total Data\",cnt)"
   ]
  },
  {
   "cell_type": "code",
   "execution_count": 7,
   "id": "c762e390",
   "metadata": {
    "scrolled": true
   },
   "outputs": [
    {
     "name": "stdout",
     "output_type": "stream",
     "text": [
      "                                          PRODUCT NAME  PRISE  WEIGHT DISCOUNT\n",
      "0                                               Potato   30.0   1 kg   41% OFF\n",
      "1                                        Onion (Loose)   18.0  500 g   37% OFF\n",
      "2    Coriander Leaves With Roots - Enhances Flavour...   4.22  100 g   20% OFF\n",
      "3                                               Potato   29.0   1 kg   38% OFF\n",
      "4                              Ladies' Fingers (Loose)   47.0   1 kg   46% OFF\n",
      "..                                                 ...    ...     ...      ...\n",
      "238                      Carrot Strips and Beans Strip  57.26      NA  24% OFF\n",
      "239                                   Beetroot - Diced  33.32      NA  24% OFF\n",
      "240                                      Pear - Beauty  344.6      NA  24% OFF\n",
      "241                                Basil - Thai, Sweet  37.48      NA  24% OFF\n",
      "242                                  Fresh Dates - Red  96.82  500 g   24% OFF\n",
      "\n",
      "[243 rows x 4 columns]\n"
     ]
    }
   ],
   "source": [
    "#IN THIS SECTION FIRST I HAVE TAKEN ONLY ONE DIV\n",
    "# THEN I SCRAP THE PRODUCT_NAME, PRODUCT_PRICE, PRODUCT_WEIGHT ETC. IF THEY EXISTS.\n",
    "# THEN I CREATE DATA FRAME \n",
    "import pandas as pd\n",
    "#Number of the total data points \n",
    "contain = soup.find_all(\"div\" , class_ = \"SKUDeck___StyledDiv-sc-1e5d9gk-0 eA-dmzP\" )\n",
    "cnt = len(contain)\n",
    "products = []\n",
    "for k in range(cnt):\n",
    "    a = contain[k]#first it checking that do we have have this link in html code if yes then give the name etc.\n",
    "    product_name = a.find(\"h3\", class_ = \"block m-0 line-clamp-2 font-regular text-base leading-sm text-darkOnyx-800 pt-0.5 h-full\").text if a.find(\"h3\", class_ = \"block m-0 line-clamp-2 font-regular text-base leading-sm text-darkOnyx-800 pt-0.5 h-full\") else \"NA\"\n",
    "    product_prise = a.find(\"span\", class_ = \"Label-sc-15v1nk5-0 Pricing___StyledLabel-sc-pldi2d-1 gJxZPQ AypOi\").text if a.find(\"span\", class_ = \"Label-sc-15v1nk5-0 Pricing___StyledLabel-sc-pldi2d-1 gJxZPQ AypOi\") else \"NA\"\n",
    "    product_weight = a.find(\"span\",class_ = \"Label-sc-15v1nk5-0 PackChanger___StyledLabel-sc-newjpv-1 gJxZPQ cWbtUx\").text if a.find(\"span\",class_ = \"Label-sc-15v1nk5-0 PackChanger___StyledLabel-sc-newjpv-1 gJxZPQ cWbtUx\") else \"NA\"\n",
    "    discount = a.find(\"span\",class_ = \"font-semibold lg:text-xs xl:text-sm leading-xxl xl:leading-md\").text if a.find(\"span\",class_ = \"font-semibold lg:text-xs xl:text-sm leading-xxl xl:leading-md\") else \"NA\"\n",
    "    # Removing the $ sign form the product_prise\n",
    "    if product_prise != \"NA\":\n",
    "        product_prise = product_prise.replace(\"₹\",\"\")\n",
    "        product_prise = float(product_prise)\n",
    "    else:\n",
    "        None\n",
    "    #append the data into the list\n",
    "    products.append({\"PRODUCT NAME\":product_name,\n",
    "                     \"PRISE\":product_prise,\n",
    "                     \"WEIGHT\":product_weight,\n",
    "                     \"DISCOUNT\":discount\n",
    "                    })\n",
    "#     print(product_weight)\n",
    "#Change into data Frame \n",
    "data = pd.DataFrame(products)\n",
    "print(data)\n"
   ]
  },
  {
   "cell_type": "code",
   "execution_count": 9,
   "id": "7a4b50c4",
   "metadata": {
    "scrolled": true
   },
   "outputs": [],
   "source": [
    "# NOW I HAVE CONVERTED DATA FRAME TO A CSV FILE \n",
    "data.to_csv(\"BigBasketData2.csv\",index = False)"
   ]
  },
  {
   "cell_type": "code",
   "execution_count": null,
   "id": "ba2f914e",
   "metadata": {},
   "outputs": [],
   "source": []
  },
  {
   "cell_type": "code",
   "execution_count": null,
   "id": "443d4c7f",
   "metadata": {},
   "outputs": [],
   "source": []
  },
  {
   "cell_type": "code",
   "execution_count": null,
   "id": "187875c5",
   "metadata": {},
   "outputs": [],
   "source": []
  },
  {
   "cell_type": "code",
   "execution_count": null,
   "id": "d38a09df",
   "metadata": {},
   "outputs": [],
   "source": []
  },
  {
   "cell_type": "code",
   "execution_count": null,
   "id": "58cfdac0",
   "metadata": {},
   "outputs": [],
   "source": []
  },
  {
   "cell_type": "code",
   "execution_count": null,
   "id": "8cbfd633",
   "metadata": {},
   "outputs": [],
   "source": []
  },
  {
   "cell_type": "code",
   "execution_count": null,
   "id": "afd2515e",
   "metadata": {},
   "outputs": [],
   "source": []
  },
  {
   "cell_type": "code",
   "execution_count": null,
   "id": "6f5b5fa2",
   "metadata": {},
   "outputs": [],
   "source": []
  },
  {
   "cell_type": "code",
   "execution_count": null,
   "id": "91c68d57",
   "metadata": {},
   "outputs": [],
   "source": []
  },
  {
   "cell_type": "code",
   "execution_count": null,
   "id": "3c11fad7",
   "metadata": {},
   "outputs": [],
   "source": []
  }
 ],
 "metadata": {
  "kernelspec": {
   "display_name": "Python 3 (ipykernel)",
   "language": "python",
   "name": "python3"
  },
  "language_info": {
   "codemirror_mode": {
    "name": "ipython",
    "version": 3
   },
   "file_extension": ".py",
   "mimetype": "text/x-python",
   "name": "python",
   "nbconvert_exporter": "python",
   "pygments_lexer": "ipython3",
   "version": "3.11.5"
  }
 },
 "nbformat": 4,
 "nbformat_minor": 5
}
